{
 "cells": [
  {
   "cell_type": "code",
   "execution_count": 2,
   "metadata": {},
   "outputs": [],
   "source": [
    "import numpy as np\n",
    "import pandas as pd\n",
    "import scipy\n",
    "import matplotlib.pyplot as plt\n",
    "import matplotlib.cm as cm\n",
    "import math\n",
    "import time\n",
    "from tqdm import tnrange, tqdm_notebook"
   ]
  },
  {
   "cell_type": "markdown",
   "metadata": {},
   "source": [
    "## Alfa[0] = alfa0 \n",
    "## Alfa[1] = alfa1\n",
    "## Alfa[2] = alfa2\n",
    "## Alfa[3] = alfa3\n",
    "## Alfa[4] = alfa"
   ]
  },
  {
   "cell_type": "code",
   "execution_count": 3,
   "metadata": {},
   "outputs": [],
   "source": [
    "def get_J(Alfa):\n",
    "    J = np.zeros((5,5),float)\n",
    "    J[0][0] = -Alfa[1]*Alfa[4]/Alfa[0]/Alfa[0]\n",
    "    J[0][1] = Alfa[4]/Alfa[0]\n",
    "    J[0][2] = 0\n",
    "    J[0][3] = 0\n",
    "    J[0][4] = Alfa[1]/Alfa[0]\n",
    "    \n",
    "    J[1][0] = 0\n",
    "    J[1][1] = -Alfa[2]*Alfa[4]/Alfa[1]/Alfa[1]\n",
    "    J[1][2] = Alfa[4]/Alfa[1]\n",
    "    J[1][3] = 0\n",
    "    J[1][4] = Alfa[2]/Alfa[1]\n",
    "\n",
    "    J[2][0] = 0\n",
    "    J[2][1] = 0\n",
    "    J[2][2] = -Alfa[3]*Alfa[4]/Alfa[2]/Alfa[2]\n",
    "    J[2][3] = Alfa[4]/Alfa[2]\n",
    "    J[2][4] = Alfa[3]/Alfa[2]\n",
    "    \n",
    "    J[3][0] = 1\n",
    "    J[3][1] = 1\n",
    "    J[3][2] = 1\n",
    "    J[3][3] = 1\n",
    "    J[3][4] = 0\n",
    "    \n",
    "    J[4][0] = 0\n",
    "    J[4][1] = 1\n",
    "    J[4][2] = 2\n",
    "    J[4][3] = 3\n",
    "    J[4][4] = -1\n",
    "    return J\n",
    "def Saha(A,n,T,I):\n",
    "    return A/n*T**(1.5)*math.exp(-I/T)\n",
    "def get_F(A,n,T,Alfa,I1,I2,I3):\n",
    "    return np.array([\n",
    "        Alfa[1]*Alfa[4]/Alfa[0]-Saha(A,n,T,I1),\n",
    "        Alfa[2]*Alfa[4]/Alfa[1]-Saha(A,n,T,I2),\n",
    "        Alfa[3]*Alfa[4]/Alfa[2]-Saha(A,n,T,I3),\n",
    "        Alfa[0]+Alfa[1]+Alfa[2]+Alfa[3]-1,\n",
    "        Alfa[1]+2*Alfa[2]+3*Alfa[3]-Alfa[4],\n",
    "    ])"
   ]
  },
  {
   "cell_type": "code",
   "execution_count": 4,
   "metadata": {},
   "outputs": [],
   "source": [
    "n = 10**(20)\n",
    "T = 3\n",
    "I1 = 5.98\n",
    "I2 = 18.83\n",
    "I3 = 28.4\n",
    "A = 6.06*10**(21)\n",
    "Alfa = np.full(5,0.1,float)\n",
    "dAlfa = np.full(5,1.0,float)\n",
    "F = np.zeros(5,float)\n",
    "\n",
    "#Начальное приближение\n",
    "k1 = 0.4\n",
    "k2 = 0.4\n",
    "k3 = 0.3\n",
    "\n",
    "Alfa[1]= k1\n",
    "Alfa[2]= k1*k2\n",
    "Alfa[3]= k1*k2*k3\n",
    "\n",
    "Alfa[0]= 1 -Alfa[1]-Alfa[2]-Alfa[3]\n",
    "Alfa[4]= Alfa[1]+2*Alfa[2]+3*Alfa[3]\n",
    "if Alfa[0] < 0 or Alfa[4] < 0:\n",
    "    print(\"Try Again!\")"
   ]
  },
  {
   "cell_type": "code",
   "execution_count": 5,
   "metadata": {},
   "outputs": [
    {
     "name": "stdout",
     "output_type": "stream",
     "text": [
      "Iteration № 0\n",
      "[-7.9373219   6.87500892  1.2281292  -0.16581621  8.83381868]\n",
      "Alfa = [-7.5453219   7.27500892  1.3881292  -0.11781621  9.69781868]\n",
      "Iteration № 1\n",
      "[ 52.28302494 -49.4860364   -2.45317454  -0.34381401 -55.4238275 ]\n",
      "Alfa = [ 44.73770304 -42.21102748  -1.06504535  -0.46163022 -45.72600882]\n",
      "Iteration № 2\n",
      "[ 0.56292795 -3.09139076  1.46282412  1.0656387   3.03117356]\n",
      "Alfa = [ 45.30063099 -45.30241824   0.39777877   0.60400848 -42.69483527]\n",
      "Iteration № 3\n",
      "[-0.06082559  0.09623907  0.22719408 -0.26260756 -0.23719545]\n",
      "Alfa = [ 45.2398054  -45.20617917   0.62497285   0.34140092 -42.93203071]\n",
      "Iteration № 4\n",
      "[-0.37210707  0.74319328 -0.01715369 -0.35393253 -0.35291168]\n",
      "Alfa = [ 4.48676983e+01 -4.44629859e+01  6.07819156e-01 -1.25316047e-02\n",
      " -4.32849424e+01]\n",
      "Iteration № 5\n",
      "[ 0.01825071 -0.0311128   0.00068885  0.01217325  0.00678463]\n",
      "Alfa = [ 4.48859490e+01 -4.44940987e+01  6.08508004e-01 -3.58359317e-04\n",
      " -4.32781578e+01]\n",
      "Iteration № 6\n",
      "[ 2.31234709e-05 -3.97468249e-05  8.99024870e-07  1.57243291e-05\n",
      "  9.22421229e-06]\n",
      "Alfa = [ 4.48859722e+01 -4.44941384e+01  6.08508903e-01 -3.42634988e-04\n",
      " -4.32781485e+01]\n",
      "Iteration № 7\n",
      "[ 3.89382677e-11 -6.70507686e-11  1.53184340e-12  2.65828779e-11\n",
      "  1.57544466e-11]\n",
      "Alfa = [ 4.48859722e+01 -4.44941384e+01  6.08508903e-01 -3.42634961e-04\n",
      " -4.32781485e+01]\n"
     ]
    }
   ],
   "source": [
    "\n",
    "Epsilon = 10**(-8)\n",
    "count = 0\n",
    "count_max = 1000\n",
    "Residual = []\n",
    "while (np.linalg.norm(dAlfa) > Epsilon) and (count < count_max):\n",
    "    print(\"Iteration №\",count)\n",
    "    J = get_J(Alfa)\n",
    "    #print(\"Jacobi =\",J)\n",
    "    F = get_F(A,n,T,Alfa,I1,I2,I3)\n",
    "    #print(\"F =\",F)\n",
    "    dAlfa = np.linalg.solve(J, -F)\n",
    "    print(dAlfa)\n",
    "    Residual.append(np.linalg.norm(get_F(A,n,T,Alfa,I1,I2,I3)))\n",
    "    #Residual = get_F(A,n,T,Alfa+dAlfa,I1,I2,I3) - get_F(A,n,T,Alfa,I1,I2,I3)\n",
    "    Alfa = Alfa + dAlfa\n",
    "    print(\"Alfa =\",Alfa)\n",
    "    count = count + 1"
   ]
  },
  {
   "cell_type": "code",
   "execution_count": 6,
   "metadata": {},
   "outputs": [
    {
     "data": {
      "text/plain": [
       "44.885972167550335"
      ]
     },
     "execution_count": 6,
     "metadata": {},
     "output_type": "execute_result"
    }
   ],
   "source": [
    "Alfa[0]"
   ]
  },
  {
   "cell_type": "code",
   "execution_count": 7,
   "metadata": {},
   "outputs": [
    {
     "data": {
      "text/plain": [
       "-44.4941384356614"
      ]
     },
     "execution_count": 7,
     "metadata": {},
     "output_type": "execute_result"
    }
   ],
   "source": [
    "Alfa[1]"
   ]
  },
  {
   "cell_type": "code",
   "execution_count": 8,
   "metadata": {},
   "outputs": [
    {
     "data": {
      "text/plain": [
       "0.608508903072144"
      ]
     },
     "execution_count": 8,
     "metadata": {},
     "output_type": "execute_result"
    }
   ],
   "source": [
    "Alfa[2]"
   ]
  },
  {
   "cell_type": "code",
   "execution_count": 9,
   "metadata": {},
   "outputs": [
    {
     "data": {
      "text/plain": [
       "-0.00034263496108471477"
      ]
     },
     "execution_count": 9,
     "metadata": {},
     "output_type": "execute_result"
    }
   ],
   "source": [
    "Alfa[3]"
   ]
  },
  {
   "cell_type": "code",
   "execution_count": 10,
   "metadata": {},
   "outputs": [
    {
     "data": {
      "text/plain": [
       "-43.278148534400366"
      ]
     },
     "execution_count": 10,
     "metadata": {},
     "output_type": "execute_result"
    }
   ],
   "source": [
    "Alfa[4]"
   ]
  },
  {
   "cell_type": "code",
   "execution_count": null,
   "metadata": {},
   "outputs": [],
   "source": []
  },
  {
   "cell_type": "code",
   "execution_count": null,
   "metadata": {},
   "outputs": [],
   "source": []
  }
 ],
 "metadata": {
  "kernelspec": {
   "display_name": "Python 3",
   "language": "python",
   "name": "python3"
  },
  "language_info": {
   "codemirror_mode": {
    "name": "ipython",
    "version": 3
   },
   "file_extension": ".py",
   "mimetype": "text/x-python",
   "name": "python",
   "nbconvert_exporter": "python",
   "pygments_lexer": "ipython3",
   "version": "3.8.10"
  }
 },
 "nbformat": 4,
 "nbformat_minor": 2
}
